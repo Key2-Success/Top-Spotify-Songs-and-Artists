{
 "cells": [
  {
   "cell_type": "markdown",
   "metadata": {},
   "source": [
    "# Cleaning Dataset"
   ]
  },
  {
   "cell_type": "code",
   "execution_count": 1,
   "metadata": {
    "collapsed": true
   },
   "outputs": [],
   "source": [
    "# loading packages\n",
    "import pandas as pd\n",
    "import plotly.plotly as py\n",
    "import plotly\n",
    "from plotly.graph_objs import *\n",
    "import plotly.graph_objs as go"
   ]
  },
  {
   "cell_type": "code",
   "execution_count": 2,
   "metadata": {
    "collapsed": true
   },
   "outputs": [],
   "source": [
    "# load data\n",
    "spotify = pd.read_csv(r\"C:\\Users\\KK\\Documents\\Kitu\\College\\Senior Year\\Extracurriculars\\Python\\Spotify\\.spyproject\\data.csv\")"
   ]
  },
  {
   "cell_type": "code",
   "execution_count": 3,
   "metadata": {},
   "outputs": [
    {
     "data": {
      "text/plain": [
       "Position       int64\n",
       "Track Name    object\n",
       "Artist        object\n",
       "Streams        int64\n",
       "URL           object\n",
       "Date          object\n",
       "Region        object\n",
       "dtype: object"
      ]
     },
     "execution_count": 3,
     "metadata": {},
     "output_type": "execute_result"
    }
   ],
   "source": [
    "# explore data\n",
    "spotify.head()\n",
    "spotify.shape\n",
    "spotify.dtypes"
   ]
  },
  {
   "cell_type": "markdown",
   "metadata": {},
   "source": [
    "As we can see, the dataset has 2017625 observations and 7 variables.\n",
    "Moreover, some of the variable's data types are incorrect. Let's correct that."
   ]
  },
  {
   "cell_type": "code",
   "execution_count": 4,
   "metadata": {},
   "outputs": [
    {
     "data": {
      "text/plain": [
       "Position               int64\n",
       "Track Name            object\n",
       "Artist                object\n",
       "Streams                int64\n",
       "URL                   object\n",
       "Date          datetime64[ns]\n",
       "Region              category\n",
       "dtype: object"
      ]
     },
     "execution_count": 4,
     "metadata": {},
     "output_type": "execute_result"
    }
   ],
   "source": [
    "# change variable data types\n",
    "spotify.Region = spotify.Region.astype(\"category\")\n",
    "spotify.Date = pd.to_datetime(spotify[\"Date\"])\n",
    "spotify.dtypes"
   ]
  },
  {
   "cell_type": "markdown",
   "metadata": {},
   "source": [
    "Now all of the variables' data type are correct."
   ]
  },
  {
   "cell_type": "code",
   "execution_count": 5,
   "metadata": {},
   "outputs": [
    {
     "data": {
      "text/plain": [
       "54"
      ]
     },
     "execution_count": 5,
     "metadata": {},
     "output_type": "execute_result"
    }
   ],
   "source": [
    "# look into counts of Region\n",
    "spotify[\"Region\"].value_counts()\n",
    "len(spotify[\"Region\"].value_counts())"
   ]
  },
  {
   "cell_type": "markdown",
   "metadata": {},
   "source": [
    "Here is the list of all of the countries included in this dataset.\n",
    "Furthermore, we see that there are a total of 54 countries (including the global \"country\").\n",
    "I am going to choose a select few countries to analyze; I am interested in seeing how song and artist choices are affected by region."
   ]
  },
  {
   "cell_type": "code",
   "execution_count": 6,
   "metadata": {
    "collapsed": true
   },
   "outputs": [],
   "source": [
    "# make new dataframes for global, usa, great britain, mexico, taiwan, and singapore\n",
    "globe = spotify[spotify.Region == \"global\"]\n",
    "usa = spotify[spotify.Region == \"us\"]\n",
    "great_britain = spotify[spotify.Region == \"gb\"]\n",
    "mexico = spotify[spotify.Region == \"mx\"]\n",
    "taiwan = spotify[spotify.Region == \"tw\"]\n",
    "singapore = spotify[spotify.Region == \"sg\"]"
   ]
  },
  {
   "cell_type": "markdown",
   "metadata": {},
   "source": [
    "# Preparing Top Songs Streamed"
   ]
  },
  {
   "cell_type": "code",
   "execution_count": 7,
   "metadata": {
    "collapsed": true
   },
   "outputs": [],
   "source": [
    "# create descending table of top songs by total stream count per country\n",
    "# also add new country variable for use in merging\n",
    "top_globe = globe.groupby(\"Track Name\").agg({\"Streams\": \"sum\"})\n",
    "top_globe = top_globe.sort_values([\"Streams\"], ascending = False)\n",
    "top_globe[\"country\"] = \"Globe\"\n",
    "\n",
    "top_usa = usa.groupby(\"Track Name\").agg({\"Streams\": \"sum\"})\n",
    "top_usa = top_usa.sort_values([\"Streams\"], ascending = False)\n",
    "top_usa[\"country\"] = \"USA\"\n",
    "\n",
    "top_great_britain = great_britain.groupby(\"Track Name\").agg({\"Streams\": \"sum\"})\n",
    "top_great_britain = top_great_britain.sort_values([\"Streams\"], ascending = False)\n",
    "top_great_britain[\"country\"] = \"Great Britain\"\n",
    "\n",
    "top_mexico = mexico.groupby(\"Track Name\").agg({\"Streams\": \"sum\"})\n",
    "top_mexico = top_mexico.sort_values([\"Streams\"], ascending = False)\n",
    "top_mexico[\"country\"] = \"Mexico\"\n",
    "\n",
    "top_taiwan = taiwan.groupby(\"Track Name\").agg({\"Streams\": \"sum\"})\n",
    "top_taiwan = top_taiwan.sort_values([\"Streams\"], ascending = False)\n",
    "top_taiwan[\"country\"] = \"Taiwan\"\n",
    "\n",
    "top_singapore = singapore.groupby(\"Track Name\").agg({\"Streams\": \"sum\"})\n",
    "top_singapore = top_singapore.sort_values([\"Streams\"], ascending = False)\n",
    "top_singapore[\"country\"] = \"Singapore\""
   ]
  },
  {
   "cell_type": "markdown",
   "metadata": {},
   "source": [
    "We are going to first look into the top songs streamed by country. I have created separate dataframes for each country, descending by the top songs. I have also added a new country variable that will be used for when we merge these dataframes together."
   ]
  },
  {
   "cell_type": "code",
   "execution_count": 8,
   "metadata": {
    "collapsed": true
   },
   "outputs": [],
   "source": [
    "# add a new variable of the proportion of the song from all streams\n",
    "top_globe[\"prop\"] = top_globe[\"Streams\"]/sum(top_globe[\"Streams\"])*100\n",
    "top_usa[\"prop\"] = top_usa[\"Streams\"]/sum(top_usa[\"Streams\"])*100\n",
    "top_great_britain[\"prop\"] = top_great_britain[\"Streams\"]/sum(top_great_britain[\"Streams\"])*100\n",
    "top_mexico[\"prop\"] = top_mexico[\"Streams\"]/sum(top_mexico[\"Streams\"])*100\n",
    "top_taiwan[\"prop\"] = top_taiwan[\"Streams\"]/sum(top_taiwan[\"Streams\"])*100\n",
    "top_singapore[\"prop\"] = top_singapore[\"Streams\"]/sum(top_singapore[\"Streams\"])*100"
   ]
  },
  {
   "cell_type": "markdown",
   "metadata": {},
   "source": [
    "It's important to standardize the stream count, so I will do that by using proportion - by using the percent the song was streamed relative to all other songs. Otherwise, we will be left with an unevent distribution of stream counts, which would confound our analysis, since higher stream counts overall are related to population of the country and not song interest. Thus, to interpret the proportion variable, we would say: \"from all songs streamed on Spotify, this song was streamed x% of the time during January 2017 to August 2017 in country y.\""
   ]
  },
  {
   "cell_type": "code",
   "execution_count": 9,
   "metadata": {
    "collapsed": true
   },
   "outputs": [],
   "source": [
    "# subset to only top 3 songs\n",
    "top_globe = top_globe[0:3]\n",
    "top_usa = top_usa[0:3]\n",
    "top_great_britain = top_great_britain[0:3]\n",
    "top_mexico = top_mexico[0:3]\n",
    "top_taiwan = top_taiwan[0:3]\n",
    "top_singapore = top_singapore[0:3]"
   ]
  },
  {
   "cell_type": "code",
   "execution_count": 10,
   "metadata": {
    "collapsed": true
   },
   "outputs": [],
   "source": [
    "# delete Streams variable, since we will be using prop to compare\n",
    "del top_globe[\"Streams\"]\n",
    "del top_usa[\"Streams\"]\n",
    "del top_great_britain[\"Streams\"]\n",
    "del top_mexico[\"Streams\"]\n",
    "del top_taiwan[\"Streams\"]\n",
    "del top_singapore[\"Streams\"]"
   ]
  },
  {
   "cell_type": "code",
   "execution_count": 11,
   "metadata": {
    "collapsed": true
   },
   "outputs": [],
   "source": [
    "# row bind all dataframes\n",
    "top_all_merged = top_globe.append([top_usa, top_great_britain, top_mexico, top_taiwan, top_singapore])"
   ]
  },
  {
   "cell_type": "code",
   "execution_count": 12,
   "metadata": {
    "collapsed": true
   },
   "outputs": [],
   "source": [
    "# reset index to include index as a variable\n",
    "top_all_merged = top_all_merged.reset_index()"
   ]
  },
  {
   "cell_type": "code",
   "execution_count": 13,
   "metadata": {},
   "outputs": [
    {
     "data": {
      "text/plain": [
       "9"
      ]
     },
     "execution_count": 13,
     "metadata": {},
     "output_type": "execute_result"
    }
   ],
   "source": [
    "# find all unique songs\n",
    "all_songs = top_all_merged[\"Track Name\"].value_counts()\n",
    "all_songs = all_songs.reset_index()\n",
    "len(top_all_merged[\"Track Name\"].value_counts())"
   ]
  },
  {
   "cell_type": "markdown",
   "metadata": {},
   "source": [
    "We see that there are 9 unique songs across the 6 countries' (including global) top 3 songs streamed. This means that there is an overlap of (6*3) - 9 = 18 - 9 = 9 shared song occurrences among these countries' top 3 songs."
   ]
  },
  {
   "cell_type": "markdown",
   "metadata": {},
   "source": [
    "# Plotting Top Songs Streamed"
   ]
  },
  {
   "cell_type": "code",
   "execution_count": 23,
   "metadata": {},
   "outputs": [
    {
     "data": {
      "text/html": [
       "<iframe id=\"igraph\" scrolling=\"no\" style=\"border:none;\" seamless=\"seamless\" src=\"https://plot.ly/~sweetmusicality/18.embed\" height=\"525px\" width=\"100%\"></iframe>"
      ],
      "text/plain": [
       "<plotly.tools.PlotlyDisplay object>"
      ]
     },
     "execution_count": 23,
     "metadata": {},
     "output_type": "execute_result"
    }
   ],
   "source": [
    "# bar plot of top 3 songs by country...interactive via plotly \n",
    "# did not use Python's visualizations because they are not as powerful or engaging as plotly\n",
    "\n",
    "# each trace represents one of nine of the unique songs\n",
    "# y represents the proportion value for each country\n",
    "import plotly.plotly as py\n",
    "from plotly.graph_objs import *\n",
    "py.sign_in('sweetmusicality', 'dtCZVpCg9ovcOUWQsmMp')\n",
    "\n",
    "trace1 = {\n",
    "  \"x\": [\"Global\", \"USA\", \"Great Britain\", \"Mexico\", \"Taiwan\", \"Singapore\"], \n",
    "  \"y\": [2.54, 1.45, 2.47, 1.75, 2.11, 2.7], \n",
    "  \"name\": \"Shape of You\", \n",
    "  \"type\": \"bar\", \n",
    "  \"uid\": \"d81641\", \n",
    "  \"visible\": True, \n",
    "  \"xsrc\": \"sweetmusicality:7:ff97bb\", \n",
    "  \"ysrc\": \"sweetmusicality:7:593809\"\n",
    "}\n",
    "trace2 = {\n",
    "  \"x\": [\"Global\", \"USA\", \"Great Britain\", \"Mexico\", \"Taiwan\", \"Singapore\"], \n",
    "  \"y\": [1.48, 0, 1.4, 0, 0, 1.48], \n",
    "  \"name\": \"Despacito - Remix\", \n",
    "  \"type\": \"bar\", \n",
    "  \"uid\": \"c15c84\", \n",
    "  \"visible\": True, \n",
    "  \"xsrc\": \"sweetmusicality:7:ff97bb\", \n",
    "  \"ysrc\": \"sweetmusicality:7:724a8c\"\n",
    "}\n",
    "trace3 = {\n",
    "  \"x\": [\"Global\", \"USA\", \"Great Britain\", \"Mexico\", \"Taiwan\", \"Singapore\"], \n",
    "  \"y\": [0, 0, 0, 0, 1.97, 1.78], \n",
    "  \"name\": \"Something Just Like This\", \n",
    "  \"type\": \"bar\", \n",
    "  \"uid\": \"1dbc1b\", \n",
    "  \"xsrc\": \"sweetmusicality:7:ff97bb\", \n",
    "  \"ysrc\": \"sweetmusicality:7:31cdb8\"\n",
    "}\n",
    "trace4 = {\n",
    "  \"x\": [\"Global\", \"USA\", \"Great Britain\", \"Mexico\", \"Taiwan\", \"Singapore\"], \n",
    "  \"y\": [1.3, 0, 0, 2.22, 0, 0], \n",
    "  \"name\": \"Despacito (Featuring Daddy Yankee)\", \n",
    "  \"type\": \"bar\", \n",
    "  \"uid\": \"c6b042\", \n",
    "  \"xsrc\": \"sweetmusicality:7:ff97bb\", \n",
    "  \"ysrc\": \"sweetmusicality:7:4583e2\"\n",
    "}\n",
    "trace5 = {\n",
    "  \"x\": [\"Global\", \"USA\", \"Great Britain\", \"Mexico\", \"Taiwan\", \"Singapore\"], \n",
    "  \"y\": [0, 0, 0, 2.16, 0, 0], \n",
    "  \"name\": \"Me Rehúso\", \n",
    "  \"type\": \"bar\", \n",
    "  \"uid\": \"be7d95\", \n",
    "  \"xsrc\": \"sweetmusicality:7:ff97bb\", \n",
    "  \"ysrc\": \"sweetmusicality:7:b9ea50\"\n",
    "}\n",
    "trace6 = {\n",
    "  \"x\": [\"Global\", \"USA\", \"Great Britain\", \"Mexico\", \"Taiwan\", \"Singapore\"], \n",
    "  \"y\": [0, 1.2, 0, 0, 0, 0], \n",
    "  \"name\": \"Mask Off\", \n",
    "  \"type\": \"bar\", \n",
    "  \"uid\": \"60d6b8\", \n",
    "  \"xsrc\": \"sweetmusicality:7:ff97bb\", \n",
    "  \"ysrc\": \"sweetmusicality:7:989da6\"\n",
    "}\n",
    "trace7 = {\n",
    "  \"x\": [\"Global\", \"USA\", \"Great Britain\", \"Mexico\", \"Taiwan\", \"Singapore\"], \n",
    "  \"y\": [0, 0, 0, 0, 1.23, 0], \n",
    "  \"name\": \"演員\", \n",
    "  \"type\": \"bar\", \n",
    "  \"uid\": \"f912b1\", \n",
    "  \"xsrc\": \"sweetmusicality:7:ff97bb\", \n",
    "  \"ysrc\": \"sweetmusicality:7:cd61ac\"\n",
    "}\n",
    "trace8 = {\n",
    "  \"x\": [\"Global\", \"USA\", \"Great Britain\", \"Mexico\", \"Taiwan\", \"Singapore\"], \n",
    "  \"y\": [0, 0, 1.67, 0, 0, 0], \n",
    "  \"name\": \"Castle on the Hill\", \n",
    "  \"type\": \"bar\", \n",
    "  \"uid\": \"c01a7b\", \n",
    "  \"xsrc\": \"sweetmusicality:7:ff97bb\", \n",
    "  \"ysrc\": \"sweetmusicality:7:083ede\"\n",
    "}\n",
    "trace9 = {\n",
    "  \"x\": [\"Global\", \"USA\", \"Great Britain\", \"Mexico\", \"Taiwan\", \"Singapore\"], \n",
    "  \"y\": [0, 1.51, 0, 0, 0, 0], \n",
    "  \"name\": \"HUMBLE.\", \n",
    "  \"type\": \"bar\", \n",
    "  \"uid\": \"d9ea4a\", \n",
    "  \"xsrc\": \"sweetmusicality:7:ff97bb\", \n",
    "  \"ysrc\": \"sweetmusicality:7:1008dc\"\n",
    "}\n",
    "\n",
    "# assign the data and create the layout for the barplot\n",
    "data = [trace1, trace2, trace3, trace4, trace5, trace6, trace7, trace8, trace9]\n",
    "layout = {\n",
    "  \"annotations\": [\n",
    "    {\n",
    "      \"x\": 1.09648221896, \n",
    "      \"y\": 0.671878877124, \n",
    "      \"font\": {\"size\": 21}, \n",
    "      \"showarrow\": False, \n",
    "      \"text\": \"<b>Song</b>\", \n",
    "      \"xanchor\": \"middle\", \n",
    "      \"xref\": \"paper\", \n",
    "      \"yanchor\": \"bottom\", \n",
    "      \"yref\": \"paper\"\n",
    "    }\n",
    "  ], \n",
    "  \"autosize\": True, \n",
    "  \"barmode\": \"stack\", \n",
    "  \"font\": {\"size\": 18}, \n",
    "  \"hovermode\": \"closest\", \n",
    "  \"legend\": {\n",
    "    \"x\": 1.01935845381, \n",
    "    \"y\": 0.673239347844, \n",
    "    \"borderwidth\": 0, \n",
    "    \"orientation\": \"v\", \n",
    "    \"traceorder\": \"normal\"\n",
    "  }, \n",
    "  \"margin\": {\"b\": 80}, \n",
    "  \"title\": \"<b>Top 3 Streamed Songs on Spotify from Jan 2017 - Aug 2017 by Country</b>\", \n",
    "  \"titlefont\": {\"size\": 28}, \n",
    "  \"xaxis\": {\n",
    "    \"autorange\": False, \n",
    "    \"domain\": [0, 1.01], \n",
    "    \"range\": [-0.5, 5.51343670089], \n",
    "    \"side\": \"bottom\", \n",
    "    \"title\": \"<b>Country</b>\", \n",
    "    \"type\": \"category\"\n",
    "  }, \n",
    "  \"yaxis\": {\n",
    "    \"anchor\": \"x\", \n",
    "    \"autorange\": False, \n",
    "    \"domain\": [-0.01, 1], \n",
    "    \"range\": [0, 6.66421250763], \n",
    "    \"title\": \"<b>% this song was streamed in its country</b>\", \n",
    "    \"type\": \"linear\"\n",
    "  }\n",
    "}\n",
    "\n",
    "# let's plot it!\n",
    "fig = go.Figure(data = data, layout = layout)\n",
    "py.iplot(fig)"
   ]
  },
  {
   "cell_type": "markdown",
   "metadata": {},
   "source": [
    "# Analyzing Top Songs Streamed"
   ]
  },
  {
   "cell_type": "markdown",
   "metadata": {},
   "source": [
    "I really like this barplot, for many reasons. I appreciate that it's interactive, so that when you hover over a stacked bar, you can see the country, the song name, and the proportion it was streamed in that country. Another cool feature of this graph is that in the legend, you can disable and re-enable song names, if you would like to only compare select songs.\n",
    "\n",
    "Now to actually analyze our findings: wow! This is pretty neat, actually. Across all the countries chosen and across the globe, Shape of You was a genuine hit! This truly cements the saying that music brings people together globally, regardless of language. I am especially pleased to see this finding because I had included Mexico and Taiwan, whose national language is not English, as well as Singapore, which is a cultural hub.\n",
    "\n",
    "Besides Shape of You, Despacito also took off across many countries. Interestingly, the version that was most popular in Mexico was the one featuring Daddy Yankee - perhaps because he is of Hispanic origin. \n",
    "\n",
    "Something Just Like This was a popular streaming choice in both Taiwan and Singapore, which leads me to contemplate whether neighboring share similar song tastes, since these two countries are Asian.\n",
    "\n",
    "After these three songs, however, the remaining songs are specific to each country. As an American, I can definitely attest to the popularity of HUMBLE. and Mask Off. Whereas the other countries' top 3 songs are English (besides Despacito), Mexico and Taiwan both share a top song from their language, which is quite sweet, since it shows how different cultures and languages have their own unique sense of music, reminding me again of the importance of diversity - without it, others would not be able to engage and immerse in the beauty of others' cultures. \n",
    "\n",
    "Besides simply looking at the top songs, looking at each song's proportion is also fascinating. Singapore very much enjoyed Shape of You, above the global proportion, whereas the top 3 song streamed in the USA have relatively small proportions, leading me to believe that the USA has many popular song streams, each of which most likely share a lower proportion of streaming.\n",
    "\n",
    "These songs, in general, fall under the categories pop, rap, or hip-hop. These genres seem to be universally streamed.\n",
    "\n",
    "However, I realize that release date has a huge role to play in stream count, and a quick Google search showed that 9 of these songs were released no later than April 2017. Shape of You was released in the first week of January itself, so to be a \"popularly streamed\" song for a year, one must release the song earlier in the year. In the future, I would be curious to explore stream count for up until a month after the song release date, to normalize the difference in release date.\n",
    "\n",
    "I am very intrigued by these findings, and I would be interested in further exploring this data by looking into other countries or into more than just the top 3 songs. Unfortunately, I was limited by 6 countries and 3 top songs for the sake of simplicity in my barplot visualization - any more, and it would look too cluttered (originally, I had also included France, but it corrupted the simplicity of the barplot). Perhaps I will look into other types of visualizations, such as the donut plot or global map, or look into creating more than just 1 visualization. In the time being, however, I am going to listen to 演員 and Me Rehúso for the first time, as introduced to me by Taiwan and Mexico, respectively."
   ]
  },
  {
   "cell_type": "markdown",
   "metadata": {},
   "source": [
    "# Preparing Top Artists Streamed"
   ]
  },
  {
   "cell_type": "markdown",
   "metadata": {},
   "source": [
    "I am interested in seeing the correlation between the top songs that we just explored to the top artists. Are there artists who have multiple songs that are streamed at lower counts, but overall, have a higher stream count? Do the songs from our previous investigation correlate to the top artists streamed? Are there songs that are a hit, but whose artist is not, because the artist only produced one top song? These are some of the questions I hope to answer."
   ]
  },
  {
   "cell_type": "code",
   "execution_count": 15,
   "metadata": {
    "collapsed": true
   },
   "outputs": [],
   "source": [
    "# create descending table of top artists by total stream count per country\n",
    "# also add new country variable for use in merging\n",
    "top_globe2 = globe.groupby(\"Artist\").agg({\"Streams\": \"sum\"})\n",
    "top_globe2 = top_globe2.sort_values([\"Streams\"], ascending = False)\n",
    "top_globe2[\"country\"] = \"Globe\"\n",
    "\n",
    "top_usa2 = usa.groupby(\"Artist\").agg({\"Streams\": \"sum\"})\n",
    "top_usa2 = top_usa2.sort_values([\"Streams\"], ascending = False)\n",
    "top_usa2[\"country\"] = \"USA\"\n",
    "\n",
    "top_great_britain2 = great_britain.groupby(\"Artist\").agg({\"Streams\": \"sum\"})\n",
    "top_great_britain2 = top_great_britain2.sort_values([\"Streams\"], ascending = False)\n",
    "top_great_britain2[\"country\"] = \"Great Britain\"\n",
    "\n",
    "top_mexico2 = mexico.groupby(\"Artist\").agg({\"Streams\": \"sum\"})\n",
    "top_mexico2 = top_mexico2.sort_values([\"Streams\"], ascending = False)\n",
    "top_mexico2[\"country\"] = \"Mexico\"\n",
    "\n",
    "top_taiwan2 = taiwan.groupby(\"Artist\").agg({\"Streams\": \"sum\"})\n",
    "top_taiwan2 = top_taiwan2.sort_values([\"Streams\"], ascending = False)\n",
    "top_taiwan2[\"country\"] = \"Taiwan\"\n",
    "\n",
    "top_singapore2 = singapore.groupby(\"Artist\").agg({\"Streams\": \"sum\"})\n",
    "top_singapore2 = top_singapore2.sort_values([\"Streams\"], ascending = False)\n",
    "top_singapore2[\"country\"] = \"Singapore\""
   ]
  },
  {
   "cell_type": "markdown",
   "metadata": {},
   "source": [
    "Similar to our song analysis, we are going to first look into the top artists streamed by country. I have created separate dataframes for each country, descending by the top artists. I have also added a new country variable that will be used for when we merge these dataframes together."
   ]
  },
  {
   "cell_type": "code",
   "execution_count": 16,
   "metadata": {
    "collapsed": true
   },
   "outputs": [],
   "source": [
    "# add a new variable of the proportion of the artist from all streams\n",
    "top_globe2[\"prop\"] = top_globe2[\"Streams\"]/sum(top_globe2[\"Streams\"])*100\n",
    "top_usa2[\"prop\"] = top_usa2[\"Streams\"]/sum(top_usa2[\"Streams\"])*100\n",
    "top_great_britain2[\"prop\"] = top_great_britain2[\"Streams\"]/sum(top_great_britain2[\"Streams\"])*100\n",
    "top_mexico2[\"prop\"] = top_mexico2[\"Streams\"]/sum(top_mexico2[\"Streams\"])*100\n",
    "top_taiwan2[\"prop\"] = top_taiwan2[\"Streams\"]/sum(top_taiwan2[\"Streams\"])*100\n",
    "top_singapore2[\"prop\"] = top_singapore2[\"Streams\"]/sum(top_singapore2[\"Streams\"])*100"
   ]
  },
  {
   "cell_type": "markdown",
   "metadata": {},
   "source": [
    "Since I have already explained my motive behind using proportions in the song analysis, we are going to carry the same reasoning to the top artists. Now, to interpret the proportion variable, we would say: \"from all artists streamed on Spotify, this artist was streamed x% of the time during January 2017 to August 2017 in country y.\""
   ]
  },
  {
   "cell_type": "code",
   "execution_count": 17,
   "metadata": {
    "collapsed": true
   },
   "outputs": [],
   "source": [
    "# subset to only top 3 artists\n",
    "top_globe2 = top_globe2[0:3]\n",
    "top_usa2 = top_usa2[0:3]\n",
    "top_great_britain2 = top_great_britain2[0:3]\n",
    "top_mexico2 = top_mexico2[0:3]\n",
    "top_taiwan2 = top_taiwan2[0:3]\n",
    "top_singapore2 = top_singapore2[0:3]"
   ]
  },
  {
   "cell_type": "code",
   "execution_count": 18,
   "metadata": {
    "collapsed": true
   },
   "outputs": [],
   "source": [
    "# delete Streams variable, since we will be using prop to compare\n",
    "del top_globe2[\"Streams\"]\n",
    "del top_usa2[\"Streams\"]\n",
    "del top_great_britain2[\"Streams\"]\n",
    "del top_mexico2[\"Streams\"]\n",
    "del top_taiwan2[\"Streams\"]\n",
    "del top_singapore2[\"Streams\"]"
   ]
  },
  {
   "cell_type": "code",
   "execution_count": 19,
   "metadata": {
    "collapsed": true
   },
   "outputs": [],
   "source": [
    "# row bind all dataframes\n",
    "top_all_merged2 = top_globe2.append([top_usa2, top_great_britain2, top_mexico2, top_taiwan2, top_singapore2])"
   ]
  },
  {
   "cell_type": "code",
   "execution_count": 20,
   "metadata": {
    "collapsed": true
   },
   "outputs": [],
   "source": [
    "# reset index to include index as a variable\n",
    "top_all_merged2 = top_all_merged2.reset_index()"
   ]
  },
  {
   "cell_type": "code",
   "execution_count": 21,
   "metadata": {},
   "outputs": [
    {
     "data": {
      "text/plain": [
       "8"
      ]
     },
     "execution_count": 21,
     "metadata": {},
     "output_type": "execute_result"
    }
   ],
   "source": [
    "# find all unique artists\n",
    "all_artists = top_all_merged2[\"Artist\"].value_counts()\n",
    "all_artists = all_artists.reset_index()\n",
    "len(top_all_merged2[\"Artist\"].value_counts())"
   ]
  },
  {
   "cell_type": "markdown",
   "metadata": {},
   "source": [
    "We see that there are 8 unique artists across the 6 countries' (including global) top 3 artists streamed. This means that there is an overlap of (6 * 3) - 8 = 18 - 8 = 10 shared artist occurrences among these countries' top 3 artists. Interestingly, there were 9 unique songs in the top 3, and only 8 unique artists in the top 3. This suggests a slight extent of shuffling around in the top 3 between the songs and artists."
   ]
  },
  {
   "cell_type": "markdown",
   "metadata": {},
   "source": [
    "# Plotting Top Artists Streamed"
   ]
  },
  {
   "cell_type": "code",
   "execution_count": 25,
   "metadata": {},
   "outputs": [
    {
     "data": {
      "text/html": [
       "<iframe id=\"igraph\" scrolling=\"no\" style=\"border:none;\" seamless=\"seamless\" src=\"https://plot.ly/~sweetmusicality/22.embed\" height=\"525px\" width=\"100%\"></iframe>"
      ],
      "text/plain": [
       "<plotly.tools.PlotlyDisplay object>"
      ]
     },
     "execution_count": 25,
     "metadata": {},
     "output_type": "execute_result"
    }
   ],
   "source": [
    "# bar plot of top 5 artists by country...interactive via plotly \n",
    "# did not use Python's visualizations because they are not as powerful or engaging as plotly\n",
    "\n",
    "# each trace represents one of fourteen of the unique artists\n",
    "# y represents the proportion value for each country\n",
    "import plotly.plotly as py\n",
    "from plotly.graph_objs import *\n",
    "py.sign_in('sweetmusicality', 'dtCZVpCg9ovcOUWQsmMp')\n",
    "\n",
    "trace1 = {\n",
    "  \"x\": [\"Global\", \"USA\", \"Great Britain\", \"Mexico\", \"Taiwan\", \"Singapore\"], \n",
    "  \"y\": [7.31, 3.61, 13.1, 3.3, 5.6, 8.41], \n",
    "  \"name\": \"Ed Sheeran\", \n",
    "  \"type\": \"bar\", \n",
    "  \"uid\": \"955263\", \n",
    "  \"xsrc\": \"sweetmusicality:5:824c9c\", \n",
    "  \"ysrc\": \"sweetmusicality:5:ef572e\"\n",
    "}\n",
    "trace2 = {\n",
    "  \"x\": [\"Global\", \"USA\", \"Great Britain\", \"Mexico\", \"Taiwan\", \"Singapore\"], \n",
    "  \"y\": [3.91, 0, 2.85, 0, 6.15, 6.26], \n",
    "  \"name\": \"The Chainsmokers\", \n",
    "  \"type\": \"bar\", \n",
    "  \"uid\": \"067b27\", \n",
    "  \"xsrc\": \"sweetmusicality:5:824c9c\", \n",
    "  \"ysrc\": \"sweetmusicality:5:c677a0\"\n",
    "}\n",
    "trace3 = {\n",
    "  \"x\": [\"Global\", \"USA\", \"Great Britain\", \"Mexico\", \"Taiwan\", \"Singapore\"], \n",
    "  \"y\": [4.28, 6.92, 5.64, 0, 0, 0], \n",
    "  \"name\": \"Drake\", \n",
    "  \"type\": \"bar\", \n",
    "  \"uid\": \"41897b\", \n",
    "  \"xsrc\": \"sweetmusicality:5:824c9c\", \n",
    "  \"ysrc\": \"sweetmusicality:5:ddcce6\"\n",
    "}\n",
    "trace4 = {\n",
    "  \"x\": [\"Global\", \"USA\", \"Great Britain\", \"Mexico\", \"Taiwan\", \"Singapore\"], \n",
    "  \"y\": [0, 0, 0, 3.8, 0, 0], \n",
    "  \"name\": \"J Balvin\", \n",
    "  \"type\": \"bar\", \n",
    "  \"uid\": \"1e2640\", \n",
    "  \"xsrc\": \"sweetmusicality:5:824c9c\", \n",
    "  \"ysrc\": \"sweetmusicality:5:0e6f78\"\n",
    "}\n",
    "trace5 = {\n",
    "  \"x\": [\"Global\", \"USA\", \"Great Britain\", \"Mexico\", \"Taiwan\", \"Singapore\"], \n",
    "  \"y\": [0, 0, 0, 3.56, 0, 0], \n",
    "  \"name\": \"Maluma\", \n",
    "  \"type\": \"bar\", \n",
    "  \"uid\": \"82752c\", \n",
    "  \"xsrc\": \"sweetmusicality:5:824c9c\", \n",
    "  \"ysrc\": \"sweetmusicality:5:5279b7\"\n",
    "}\n",
    "trace6 = {\n",
    "  \"x\": [\"Global\", \"USA\", \"Great Britain\", \"Mexico\", \"Taiwan\", \"Singapore\"], \n",
    "  \"y\": [0, 0, 0, 0, 0, 2.43], \n",
    "  \"name\": \"Bruno Mars\", \n",
    "  \"type\": \"bar\", \n",
    "  \"uid\": \"7d1dea\", \n",
    "  \"xsrc\": \"sweetmusicality:5:824c9c\", \n",
    "  \"ysrc\": \"sweetmusicality:5:91136f\"\n",
    "}\n",
    "trace7 = {\n",
    "  \"x\": [\"Global\", \"USA\", \"Great Britain\", \"Mexico\", \"Taiwan\", \"Singapore\"], \n",
    "  \"y\": [0, 5.53, 0, 0, 0, 0], \n",
    "  \"name\": \"Kendrick Lamar\", \n",
    "  \"type\": \"bar\", \n",
    "  \"uid\": \"e3f565\", \n",
    "  \"xsrc\": \"sweetmusicality:5:824c9c\", \n",
    "  \"ysrc\": \"sweetmusicality:5:7a8be3\"\n",
    "}\n",
    "trace8 = {\n",
    "  \"x\": [\"Global\", \"USA\", \"Great Britain\", \"Mexico\", \"Taiwan\", \"Singapore\"], \n",
    "  \"y\": [0, 0, 0, 0, 2.09, 0], \n",
    "  \"name\": \"Martin Garrix\", \n",
    "  \"type\": \"bar\", \n",
    "  \"uid\": \"c384a5\", \n",
    "  \"xsrc\": \"sweetmusicality:5:824c9c\", \n",
    "  \"ysrc\": \"sweetmusicality:5:554b1c\"\n",
    "}\n",
    "\n",
    "# create the data and layout of the graph\n",
    "data = [trace1, trace2, trace3, trace4, trace5, trace6, trace7, trace8]\n",
    "layout = {\n",
    "  \"annotations\": [\n",
    "    {\n",
    "      \"x\": 1.08896492729, \n",
    "      \"y\": 0.659509202454, \n",
    "      \"font\": {\"size\": 21}, \n",
    "      \"showarrow\": False, \n",
    "      \"text\": \"<b>Artist</b>\", \n",
    "      \"xanchor\": \"middle\", \n",
    "      \"xref\": \"paper\", \n",
    "      \"yanchor\": \"bottom\", \n",
    "      \"yref\": \"paper\"\n",
    "    }\n",
    "  ], \n",
    "  \"autosize\": True, \n",
    "  \"barmode\": \"stack\", \n",
    "  \"font\": {\"size\": 18}, \n",
    "  \"hovermode\": \"closest\", \n",
    "  \"legend\": {\n",
    "    \"x\": 1.01935845381, \n",
    "    \"y\": 0.673239347844, \n",
    "    \"borderwidth\": 0, \n",
    "    \"orientation\": \"v\", \n",
    "    \"traceorder\": \"normal\"\n",
    "  }, \n",
    "  \"title\": \"<b>Top 3 Streamed Artists on Spotify from Jan 2017 - Aug 2017 by Country</b>\", \n",
    "  \"titlefont\": {\"size\": 28}, \n",
    "  \"xaxis\": {\n",
    "    \"autorange\": True, \n",
    "    \"range\": [-0.5, 5.5], \n",
    "    \"title\": \"<b>Country</b>\", \n",
    "    \"type\": \"category\"\n",
    "  }, \n",
    "  \"yaxis\": {\n",
    "    \"autorange\": True, \n",
    "    \"range\": [0, 22.7263157895], \n",
    "    \"title\": \"<b>% this artist was streamed in its country</b>\", \n",
    "    \"type\": \"linear\"\n",
    "  }\n",
    "}\n",
    "\n",
    "# let's plot it!\n",
    "fig = go.Figure(data = data, layout = layout)\n",
    "py.iplot(fig)"
   ]
  },
  {
   "cell_type": "markdown",
   "metadata": {},
   "source": [
    "# Analyzing Top Artists Streamed"
   ]
  },
  {
   "cell_type": "markdown",
   "metadata": {},
   "source": [
    "Wow, this is some neat stuff! Again, as explained earlier in the top songs streamed, this interactive plot allows hovering upon each stacked bar to view its values as well as disable and re-enable artist names.\n",
    "\n",
    "Besides the cool aspects of plotly, let's dive into analyzing what we see. Ed Sheeran is sure a hit across all these countries! And this makes sense, since Shape of You was also the most streamed song. It's especially captivating to see how Ed Sheeran's highest stream proportion is in Great Britain, his homeland country, by nearly twice as much as the global proportion. Seeing this makes me believe that a country is quite loyal to its citizens, since an artist is most likely most appreciated and listened to in his or her own country. How comforting to hear.\n",
    "\n",
    "Besides Ed Sheeran, The Chainsmokers also made quite a ripple across the globe, besides in Mexico and USA. Interestingly, both Taiwan and Singapore listen to The Chainsmokers at the highest proportion, which again solidifies my belief that countries in similar regions listen to similar music. This also makes sense because Something Just Like This was a top song choice for both of these two countries.\n",
    "\n",
    "Drake has a huge presence in the USA, Great Britain, and across the globe. I'm fascinated to see how he is popular in natively English speaking countries over the other countries analyzed.\n",
    "\n",
    "Once again, for the USA, I can attest that Ed Sheeran, Drake, and Kendrick Lamar were very popular this past year. \n",
    "\n",
    "I'm also fascinated to see that the globe's top 3 artists align with Great Britain's, although at different proportions. \n",
    "\n",
    "I was initially curious to see how top songs compared to the top artists, so here is some insight: although Despacito was a success, Luis Fonsi did not make any country's top 3 artists list. Mask Off was also popular in the USA, but Future was not. These findings show that a top song may be popular in a country, but its artist might not be, or at least not to the song's extent.\n",
    "\n",
    "Unfortunately, from these 8 artists, all 8 are male. I am a bit sad to see this, but it's no news that women aren't appreciated as much as men in most industries, music not being an exception to this tale. I am surprised not to see artists like Beyonce, Taylor Swift, Selena Gomez, and Nicki Minaj, because the top songs fall in these artists' specialty: rap, hip-hop, and pop. Hopefully users can bridge the gap between male and female artists after being aware of such a disparity."
   ]
  },
  {
   "cell_type": "markdown",
   "metadata": {},
   "source": [
    "# Conclusions"
   ]
  },
  {
   "cell_type": "markdown",
   "metadata": {},
   "source": [
    "The two barplots have discovered some unique insights:\n",
    "1. Shape of You and Ed Sheeran are very popular on Spotify across the globe.\n",
    "2. There is strong correlation between top songs and top artists.\n",
    "3. Not all artists of the top songs are as streamed as their song itself.\n",
    "4. There global preference for top songs and artists aligns pretty well with other countries.\n",
    "5. Many of the non-native English speaking countries' top songs and artists belong to their country.\n",
    "6. Countries with similar cultures share similar music tastes.\n",
    "7. An artist is most streamed in his or her own country.\n",
    "8. The top artists are dominated by men.\n",
    "9. The most streamed songs and artists are of genres hip-hop, rap, and pop.\n",
    "10. The top songs of 2017 were released earlier in the year."
   ]
  },
  {
   "cell_type": "markdown",
   "metadata": {},
   "source": [
    "# Future Work"
   ]
  },
  {
   "cell_type": "markdown",
   "metadata": {},
   "source": [
    "In order to fully capture the entirety of this project, a few other ways to explore the data would be:\n",
    "1. Only compare the streams played within the first month of a song's release date.\n",
    "2. Compare more countries, using different visualization techniques, such as a global map or donut visualization.\n",
    "3. Expand to more than the top 3 songs and artists to discover other insights...where are female artists ranked, for instance?"
   ]
  }
 ],
 "metadata": {
  "kernelspec": {
   "display_name": "Python 3",
   "language": "python",
   "name": "python3"
  },
  "language_info": {
   "codemirror_mode": {
    "name": "ipython",
    "version": 3
   },
   "file_extension": ".py",
   "mimetype": "text/x-python",
   "name": "python",
   "nbconvert_exporter": "python",
   "pygments_lexer": "ipython3",
   "version": "3.6.1"
  }
 },
 "nbformat": 4,
 "nbformat_minor": 2
}
